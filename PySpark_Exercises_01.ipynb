{
 "cells": [
  {
   "cell_type": "code",
   "execution_count": 1,
   "id": "a1a1db83-6a77-4a11-9fd6-29a7cac2a0d8",
   "metadata": {},
   "outputs": [],
   "source": [
    "import pandas as pd\n",
    "import numpy as np"
   ]
  },
  {
   "cell_type": "code",
   "execution_count": 2,
   "id": "08f1f311-87d2-4285-9742-c02fdaa208a6",
   "metadata": {},
   "outputs": [],
   "source": [
    "from pyspark.sql import SparkSession"
   ]
  },
  {
   "cell_type": "code",
   "execution_count": 347,
   "id": "4dc1aa50-709e-451a-b4cd-53f15f0ba809",
   "metadata": {
    "scrolled": true
   },
   "outputs": [],
   "source": [
    "spark = SparkSession.builder.appName('practice2').getOrCreate()"
   ]
  },
  {
   "cell_type": "markdown",
   "id": "6e159811-0947-424d-aa54-d66ef8cb7179",
   "metadata": {},
   "source": [
    "### Creating Dummy Data"
   ]
  },
  {
   "cell_type": "code",
   "execution_count": 4,
   "id": "e83a72d9-fa8b-474e-9304-0dfad839d354",
   "metadata": {},
   "outputs": [],
   "source": [
    "np.random.seed(1)"
   ]
  },
  {
   "cell_type": "code",
   "execution_count": null,
   "id": "ae0535f6-7c5e-4b74-a2a9-fa5f2d469fc5",
   "metadata": {},
   "outputs": [],
   "source": [
    "ID ,SCORE, LABEL,PROB,SEGMENT"
   ]
  },
  {
   "cell_type": "code",
   "execution_count": 61,
   "id": "432860a0-e4fc-4f2b-891d-0b1500309332",
   "metadata": {},
   "outputs": [],
   "source": [
    "train_size = 100000\n",
    "val_size = 50000\n",
    "train = pd.DataFrame({\"ID\" : np.random.choice(list(range(1,train_size+1)), size=train_size, replace=False),\n",
    "                     \"LABEL\" : np.random.choice([0.0,1.0], size=train_size, replace=True),\n",
    "                      \"PROB\"  : np.random.sample(size=train_size),\n",
    "                     \"SCORE\"  : np.random.randint(low=0, high=1001, size=train_size),\n",
    "                      \"SEGMENT\" : np.random.randint(low=1, high=6, size=train_size),\n",
    "                     })\n",
    "\n",
    "val = pd.DataFrame({\"ID\" : np.random.choice(list(range(train_size+1, train_size+val_size+1)), size=val_size, replace=False),\n",
    "                     \"LABEL\" : np.random.choice([0.0,1.0], size=val_size, replace=True),\n",
    "                      \"PROB\"  : np.random.sample(size=val_size),\n",
    "                     \"SCORE\"  : np.random.randint(low=0, high=1001, size=val_size),\n",
    "                      \"SEGMENT\" : np.random.randint(low=1, high=6, size=val_size),\n",
    "                     })"
   ]
  },
  {
   "cell_type": "code",
   "execution_count": 62,
   "id": "ee59069e-bac5-4b45-86b9-de136f9e2c52",
   "metadata": {
    "scrolled": true
   },
   "outputs": [
    {
     "data": {
      "text/html": [
       "<div>\n",
       "<style scoped>\n",
       "    .dataframe tbody tr th:only-of-type {\n",
       "        vertical-align: middle;\n",
       "    }\n",
       "\n",
       "    .dataframe tbody tr th {\n",
       "        vertical-align: top;\n",
       "    }\n",
       "\n",
       "    .dataframe thead th {\n",
       "        text-align: right;\n",
       "    }\n",
       "</style>\n",
       "<table border=\"1\" class=\"dataframe\">\n",
       "  <thead>\n",
       "    <tr style=\"text-align: right;\">\n",
       "      <th></th>\n",
       "      <th>ID</th>\n",
       "      <th>LABEL</th>\n",
       "      <th>PROB</th>\n",
       "      <th>SCORE</th>\n",
       "      <th>SEGMENT</th>\n",
       "    </tr>\n",
       "  </thead>\n",
       "  <tbody>\n",
       "    <tr>\n",
       "      <th>0</th>\n",
       "      <td>77756</td>\n",
       "      <td>0.0</td>\n",
       "      <td>0.436554</td>\n",
       "      <td>542</td>\n",
       "      <td>2</td>\n",
       "    </tr>\n",
       "    <tr>\n",
       "      <th>1</th>\n",
       "      <td>16806</td>\n",
       "      <td>1.0</td>\n",
       "      <td>0.290832</td>\n",
       "      <td>951</td>\n",
       "      <td>2</td>\n",
       "    </tr>\n",
       "    <tr>\n",
       "      <th>2</th>\n",
       "      <td>82834</td>\n",
       "      <td>1.0</td>\n",
       "      <td>0.310882</td>\n",
       "      <td>619</td>\n",
       "      <td>3</td>\n",
       "    </tr>\n",
       "    <tr>\n",
       "      <th>3</th>\n",
       "      <td>37926</td>\n",
       "      <td>1.0</td>\n",
       "      <td>0.674866</td>\n",
       "      <td>526</td>\n",
       "      <td>5</td>\n",
       "    </tr>\n",
       "    <tr>\n",
       "      <th>4</th>\n",
       "      <td>8119</td>\n",
       "      <td>1.0</td>\n",
       "      <td>0.855252</td>\n",
       "      <td>382</td>\n",
       "      <td>2</td>\n",
       "    </tr>\n",
       "  </tbody>\n",
       "</table>\n",
       "</div>"
      ],
      "text/plain": [
       "      ID  LABEL      PROB  SCORE  SEGMENT\n",
       "0  77756    0.0  0.436554    542        2\n",
       "1  16806    1.0  0.290832    951        2\n",
       "2  82834    1.0  0.310882    619        3\n",
       "3  37926    1.0  0.674866    526        5\n",
       "4   8119    1.0  0.855252    382        2"
      ]
     },
     "execution_count": 62,
     "metadata": {},
     "output_type": "execute_result"
    }
   ],
   "source": [
    "train.head()"
   ]
  },
  {
   "cell_type": "code",
   "execution_count": 63,
   "id": "77f9507e-d46a-47a9-89c1-e37115a5facb",
   "metadata": {},
   "outputs": [
    {
     "data": {
      "text/html": [
       "<div>\n",
       "<style scoped>\n",
       "    .dataframe tbody tr th:only-of-type {\n",
       "        vertical-align: middle;\n",
       "    }\n",
       "\n",
       "    .dataframe tbody tr th {\n",
       "        vertical-align: top;\n",
       "    }\n",
       "\n",
       "    .dataframe thead th {\n",
       "        text-align: right;\n",
       "    }\n",
       "</style>\n",
       "<table border=\"1\" class=\"dataframe\">\n",
       "  <thead>\n",
       "    <tr style=\"text-align: right;\">\n",
       "      <th></th>\n",
       "      <th>ID</th>\n",
       "      <th>LABEL</th>\n",
       "      <th>PROB</th>\n",
       "      <th>SCORE</th>\n",
       "      <th>SEGMENT</th>\n",
       "    </tr>\n",
       "  </thead>\n",
       "  <tbody>\n",
       "    <tr>\n",
       "      <th>count</th>\n",
       "      <td>100000.000000</td>\n",
       "      <td>100000.000000</td>\n",
       "      <td>100000.000000</td>\n",
       "      <td>100000.000000</td>\n",
       "      <td>100000.000000</td>\n",
       "    </tr>\n",
       "    <tr>\n",
       "      <th>mean</th>\n",
       "      <td>50000.500000</td>\n",
       "      <td>0.500000</td>\n",
       "      <td>0.499487</td>\n",
       "      <td>500.300750</td>\n",
       "      <td>2.996410</td>\n",
       "    </tr>\n",
       "    <tr>\n",
       "      <th>std</th>\n",
       "      <td>28867.657797</td>\n",
       "      <td>0.500003</td>\n",
       "      <td>0.289166</td>\n",
       "      <td>289.674883</td>\n",
       "      <td>1.415124</td>\n",
       "    </tr>\n",
       "    <tr>\n",
       "      <th>min</th>\n",
       "      <td>1.000000</td>\n",
       "      <td>0.000000</td>\n",
       "      <td>0.000005</td>\n",
       "      <td>0.000000</td>\n",
       "      <td>1.000000</td>\n",
       "    </tr>\n",
       "    <tr>\n",
       "      <th>25%</th>\n",
       "      <td>25000.750000</td>\n",
       "      <td>0.000000</td>\n",
       "      <td>0.249247</td>\n",
       "      <td>249.000000</td>\n",
       "      <td>2.000000</td>\n",
       "    </tr>\n",
       "    <tr>\n",
       "      <th>50%</th>\n",
       "      <td>50000.500000</td>\n",
       "      <td>0.500000</td>\n",
       "      <td>0.497934</td>\n",
       "      <td>501.000000</td>\n",
       "      <td>3.000000</td>\n",
       "    </tr>\n",
       "    <tr>\n",
       "      <th>75%</th>\n",
       "      <td>75000.250000</td>\n",
       "      <td>1.000000</td>\n",
       "      <td>0.749950</td>\n",
       "      <td>753.000000</td>\n",
       "      <td>4.000000</td>\n",
       "    </tr>\n",
       "    <tr>\n",
       "      <th>max</th>\n",
       "      <td>100000.000000</td>\n",
       "      <td>1.000000</td>\n",
       "      <td>0.999980</td>\n",
       "      <td>1000.000000</td>\n",
       "      <td>5.000000</td>\n",
       "    </tr>\n",
       "  </tbody>\n",
       "</table>\n",
       "</div>"
      ],
      "text/plain": [
       "                  ID          LABEL           PROB          SCORE  \\\n",
       "count  100000.000000  100000.000000  100000.000000  100000.000000   \n",
       "mean    50000.500000       0.500000       0.499487     500.300750   \n",
       "std     28867.657797       0.500003       0.289166     289.674883   \n",
       "min         1.000000       0.000000       0.000005       0.000000   \n",
       "25%     25000.750000       0.000000       0.249247     249.000000   \n",
       "50%     50000.500000       0.500000       0.497934     501.000000   \n",
       "75%     75000.250000       1.000000       0.749950     753.000000   \n",
       "max    100000.000000       1.000000       0.999980    1000.000000   \n",
       "\n",
       "             SEGMENT  \n",
       "count  100000.000000  \n",
       "mean        2.996410  \n",
       "std         1.415124  \n",
       "min         1.000000  \n",
       "25%         2.000000  \n",
       "50%         3.000000  \n",
       "75%         4.000000  \n",
       "max         5.000000  "
      ]
     },
     "execution_count": 63,
     "metadata": {},
     "output_type": "execute_result"
    }
   ],
   "source": [
    "train.describe()"
   ]
  },
  {
   "cell_type": "code",
   "execution_count": 64,
   "id": "c51ddc90-2a49-4e94-b30e-3741c0edf47c",
   "metadata": {
    "scrolled": true
   },
   "outputs": [
    {
     "data": {
      "text/html": [
       "<div>\n",
       "<style scoped>\n",
       "    .dataframe tbody tr th:only-of-type {\n",
       "        vertical-align: middle;\n",
       "    }\n",
       "\n",
       "    .dataframe tbody tr th {\n",
       "        vertical-align: top;\n",
       "    }\n",
       "\n",
       "    .dataframe thead th {\n",
       "        text-align: right;\n",
       "    }\n",
       "</style>\n",
       "<table border=\"1\" class=\"dataframe\">\n",
       "  <thead>\n",
       "    <tr style=\"text-align: right;\">\n",
       "      <th></th>\n",
       "      <th>ID</th>\n",
       "      <th>LABEL</th>\n",
       "      <th>PROB</th>\n",
       "      <th>SCORE</th>\n",
       "      <th>SEGMENT</th>\n",
       "    </tr>\n",
       "  </thead>\n",
       "  <tbody>\n",
       "    <tr>\n",
       "      <th>0</th>\n",
       "      <td>105967</td>\n",
       "      <td>0.0</td>\n",
       "      <td>0.614261</td>\n",
       "      <td>867</td>\n",
       "      <td>2</td>\n",
       "    </tr>\n",
       "    <tr>\n",
       "      <th>1</th>\n",
       "      <td>116279</td>\n",
       "      <td>1.0</td>\n",
       "      <td>0.675801</td>\n",
       "      <td>641</td>\n",
       "      <td>4</td>\n",
       "    </tr>\n",
       "    <tr>\n",
       "      <th>2</th>\n",
       "      <td>138185</td>\n",
       "      <td>0.0</td>\n",
       "      <td>0.871711</td>\n",
       "      <td>560</td>\n",
       "      <td>2</td>\n",
       "    </tr>\n",
       "    <tr>\n",
       "      <th>3</th>\n",
       "      <td>141765</td>\n",
       "      <td>0.0</td>\n",
       "      <td>0.994826</td>\n",
       "      <td>278</td>\n",
       "      <td>5</td>\n",
       "    </tr>\n",
       "    <tr>\n",
       "      <th>4</th>\n",
       "      <td>133599</td>\n",
       "      <td>1.0</td>\n",
       "      <td>0.865611</td>\n",
       "      <td>367</td>\n",
       "      <td>2</td>\n",
       "    </tr>\n",
       "  </tbody>\n",
       "</table>\n",
       "</div>"
      ],
      "text/plain": [
       "       ID  LABEL      PROB  SCORE  SEGMENT\n",
       "0  105967    0.0  0.614261    867        2\n",
       "1  116279    1.0  0.675801    641        4\n",
       "2  138185    0.0  0.871711    560        2\n",
       "3  141765    0.0  0.994826    278        5\n",
       "4  133599    1.0  0.865611    367        2"
      ]
     },
     "execution_count": 64,
     "metadata": {},
     "output_type": "execute_result"
    }
   ],
   "source": [
    "val.head()"
   ]
  },
  {
   "cell_type": "code",
   "execution_count": 65,
   "id": "e3e5ab46-3b62-4dc0-82e6-cbf344b94876",
   "metadata": {},
   "outputs": [
    {
     "data": {
      "text/html": [
       "<div>\n",
       "<style scoped>\n",
       "    .dataframe tbody tr th:only-of-type {\n",
       "        vertical-align: middle;\n",
       "    }\n",
       "\n",
       "    .dataframe tbody tr th {\n",
       "        vertical-align: top;\n",
       "    }\n",
       "\n",
       "    .dataframe thead th {\n",
       "        text-align: right;\n",
       "    }\n",
       "</style>\n",
       "<table border=\"1\" class=\"dataframe\">\n",
       "  <thead>\n",
       "    <tr style=\"text-align: right;\">\n",
       "      <th></th>\n",
       "      <th>ID</th>\n",
       "      <th>LABEL</th>\n",
       "      <th>PROB</th>\n",
       "      <th>SCORE</th>\n",
       "      <th>SEGMENT</th>\n",
       "    </tr>\n",
       "  </thead>\n",
       "  <tbody>\n",
       "    <tr>\n",
       "      <th>count</th>\n",
       "      <td>50000.000000</td>\n",
       "      <td>50000.0000</td>\n",
       "      <td>50000.000000</td>\n",
       "      <td>50000.000000</td>\n",
       "      <td>50000.000000</td>\n",
       "    </tr>\n",
       "    <tr>\n",
       "      <th>mean</th>\n",
       "      <td>125000.500000</td>\n",
       "      <td>0.5023</td>\n",
       "      <td>0.500456</td>\n",
       "      <td>501.430560</td>\n",
       "      <td>2.996960</td>\n",
       "    </tr>\n",
       "    <tr>\n",
       "      <th>std</th>\n",
       "      <td>14433.901067</td>\n",
       "      <td>0.5000</td>\n",
       "      <td>0.288183</td>\n",
       "      <td>289.530136</td>\n",
       "      <td>1.413998</td>\n",
       "    </tr>\n",
       "    <tr>\n",
       "      <th>min</th>\n",
       "      <td>100001.000000</td>\n",
       "      <td>0.0000</td>\n",
       "      <td>0.000007</td>\n",
       "      <td>0.000000</td>\n",
       "      <td>1.000000</td>\n",
       "    </tr>\n",
       "    <tr>\n",
       "      <th>25%</th>\n",
       "      <td>112500.750000</td>\n",
       "      <td>0.0000</td>\n",
       "      <td>0.251939</td>\n",
       "      <td>251.000000</td>\n",
       "      <td>2.000000</td>\n",
       "    </tr>\n",
       "    <tr>\n",
       "      <th>50%</th>\n",
       "      <td>125000.500000</td>\n",
       "      <td>1.0000</td>\n",
       "      <td>0.500318</td>\n",
       "      <td>500.000000</td>\n",
       "      <td>3.000000</td>\n",
       "    </tr>\n",
       "    <tr>\n",
       "      <th>75%</th>\n",
       "      <td>137500.250000</td>\n",
       "      <td>1.0000</td>\n",
       "      <td>0.750513</td>\n",
       "      <td>753.000000</td>\n",
       "      <td>4.000000</td>\n",
       "    </tr>\n",
       "    <tr>\n",
       "      <th>max</th>\n",
       "      <td>150000.000000</td>\n",
       "      <td>1.0000</td>\n",
       "      <td>0.999998</td>\n",
       "      <td>1000.000000</td>\n",
       "      <td>5.000000</td>\n",
       "    </tr>\n",
       "  </tbody>\n",
       "</table>\n",
       "</div>"
      ],
      "text/plain": [
       "                  ID       LABEL          PROB         SCORE       SEGMENT\n",
       "count   50000.000000  50000.0000  50000.000000  50000.000000  50000.000000\n",
       "mean   125000.500000      0.5023      0.500456    501.430560      2.996960\n",
       "std     14433.901067      0.5000      0.288183    289.530136      1.413998\n",
       "min    100001.000000      0.0000      0.000007      0.000000      1.000000\n",
       "25%    112500.750000      0.0000      0.251939    251.000000      2.000000\n",
       "50%    125000.500000      1.0000      0.500318    500.000000      3.000000\n",
       "75%    137500.250000      1.0000      0.750513    753.000000      4.000000\n",
       "max    150000.000000      1.0000      0.999998   1000.000000      5.000000"
      ]
     },
     "execution_count": 65,
     "metadata": {},
     "output_type": "execute_result"
    }
   ],
   "source": [
    "val.describe()"
   ]
  },
  {
   "cell_type": "code",
   "execution_count": null,
   "id": "5c12ae8e-957f-4e83-ab67-2d9aa9dbe191",
   "metadata": {},
   "outputs": [],
   "source": []
  },
  {
   "cell_type": "code",
   "execution_count": 66,
   "id": "e6f3aae1-c979-4b31-ae9b-9730986848de",
   "metadata": {},
   "outputs": [],
   "source": [
    "train.to_csv(\"./dummy_train.csv\", index=False)\n",
    "val.to_csv(\"./dummy_val.csv\", index=False)"
   ]
  },
  {
   "cell_type": "code",
   "execution_count": 67,
   "id": "297b5bb9-593e-4206-b69a-744127b7bceb",
   "metadata": {},
   "outputs": [],
   "source": [
    "# train = pd.read_csv(\"./dummy_train.csv\")\n",
    "# val = pd.read_csv(\"./dummy_val.csv\")"
   ]
  },
  {
   "cell_type": "markdown",
   "id": "ae77c4d2-3734-45c0-951e-ae3954161e12",
   "metadata": {},
   "source": [
    "### Calculating AUC score using pandas"
   ]
  },
  {
   "cell_type": "code",
   "execution_count": 69,
   "id": "93f90787-9489-4554-9863-158daebb6540",
   "metadata": {},
   "outputs": [],
   "source": [
    "from sklearn.metrics import roc_auc_score"
   ]
  },
  {
   "cell_type": "code",
   "execution_count": 70,
   "id": "044a32c2-89ac-4809-8ed8-0b433a6e9109",
   "metadata": {},
   "outputs": [],
   "source": [
    "# train2 = train.withColumn(\"LABEL\", train.call_time.cast('int'))\n",
    "# df2 = train.withColumn(\"LABEL\",col(\"LABEL\").cast('int'))"
   ]
  },
  {
   "cell_type": "code",
   "execution_count": 102,
   "id": "191ae9fb-d400-4ea4-9440-13f68e11f67d",
   "metadata": {},
   "outputs": [],
   "source": [
    "def calculate_auc(data, round_off=3):\n",
    "    auc_score = round(roc_auc_score(data['LABEL'], data['PROB']), round_off)\n",
    "    return auc_score"
   ]
  },
  {
   "cell_type": "code",
   "execution_count": 103,
   "id": "80f16d26-39a0-464d-9160-5a27bda0ead0",
   "metadata": {
    "scrolled": true
   },
   "outputs": [
    {
     "name": "stdout",
     "output_type": "stream",
     "text": [
      "Train AUC : 0.499\n",
      "Val AUC : 0.498\n"
     ]
    }
   ],
   "source": [
    "train_auc_score = calculate_auc(train)\n",
    "val_auc_score = calculate_auc(val)\n",
    "print(f\"Train AUC : {train_auc_score}\")\n",
    "print(f\"Val AUC : {val_auc_score}\")"
   ]
  },
  {
   "cell_type": "code",
   "execution_count": null,
   "id": "d2d4bb95-7cc5-4075-b8db-6fd0dacbb1fa",
   "metadata": {},
   "outputs": [],
   "source": []
  },
  {
   "cell_type": "code",
   "execution_count": 107,
   "id": "14fea5ec-33a2-4e78-b6a8-f83d769547f3",
   "metadata": {},
   "outputs": [
    {
     "name": "stdout",
     "output_type": "stream",
     "text": [
      "Train Gini : -0.002\n",
      "Val Gini : -0.004\n"
     ]
    }
   ],
   "source": [
    "def get_gini(auc_score, round_off=3):\n",
    "    return round(2*auc_score - 1, round_off)\n",
    "train_gini = get_gini(train_auc_score)\n",
    "val_gini = get_gini(val_auc_score)\n",
    "print(f\"Train Gini : {train_gini}\")\n",
    "print(f\"Val Gini : {val_gini}\")"
   ]
  },
  {
   "cell_type": "markdown",
   "id": "0321aae7-ab25-4076-bf33-468ee441062f",
   "metadata": {},
   "source": [
    "## Using Pyspark"
   ]
  },
  {
   "cell_type": "markdown",
   "id": "9f9102d7-24a9-4c1f-8594-26494e4e17bf",
   "metadata": {
    "jp-MarkdownHeadingCollapsed": true
   },
   "source": [
    "### Reading pyspark dataframes"
   ]
  },
  {
   "cell_type": "code",
   "execution_count": 73,
   "id": "d141fdd3-da0f-427e-acbc-441c079efb5c",
   "metadata": {},
   "outputs": [],
   "source": [
    "train_pyspark = spark.read.csv('./dummy_train.csv', header=True, inferSchema=True)\n",
    "val_pyspark = spark.read.csv('./dummy_val.csv', header=True, inferSchema=True)"
   ]
  },
  {
   "cell_type": "code",
   "execution_count": 74,
   "id": "75336cbd-692b-4f0f-9e1e-195fe79baee1",
   "metadata": {},
   "outputs": [
    {
     "data": {
      "text/plain": [
       "[Row(ID=77756, LABEL=0.0, PROB=0.43655406692733745, SCORE=542, SEGMENT=2),\n",
       " Row(ID=16806, LABEL=1.0, PROB=0.29083223676639114, SCORE=951, SEGMENT=2),\n",
       " Row(ID=82834, LABEL=1.0, PROB=0.3108823196506507, SCORE=619, SEGMENT=3),\n",
       " Row(ID=37926, LABEL=1.0, PROB=0.6748656638696303, SCORE=526, SEGMENT=5),\n",
       " Row(ID=8119, LABEL=1.0, PROB=0.8552521826576316, SCORE=382, SEGMENT=2)]"
      ]
     },
     "execution_count": 74,
     "metadata": {},
     "output_type": "execute_result"
    }
   ],
   "source": [
    "train_pyspark.head(5)"
   ]
  },
  {
   "cell_type": "code",
   "execution_count": 75,
   "id": "db9fe97d-2c2b-4cda-aec7-e4ae93d4d650",
   "metadata": {
    "scrolled": true
   },
   "outputs": [
    {
     "data": {
      "text/plain": [
       "[Row(ID=105967, LABEL=0.0, PROB=0.6142610586471573, SCORE=867, SEGMENT=2),\n",
       " Row(ID=116279, LABEL=1.0, PROB=0.6758005764366875, SCORE=641, SEGMENT=4),\n",
       " Row(ID=138185, LABEL=0.0, PROB=0.8717114002906813, SCORE=560, SEGMENT=2),\n",
       " Row(ID=141765, LABEL=0.0, PROB=0.9948260188796219, SCORE=278, SEGMENT=5),\n",
       " Row(ID=133599, LABEL=1.0, PROB=0.8656106744998311, SCORE=367, SEGMENT=2)]"
      ]
     },
     "execution_count": 75,
     "metadata": {},
     "output_type": "execute_result"
    }
   ],
   "source": [
    "val_pyspark.head(5)"
   ]
  },
  {
   "cell_type": "code",
   "execution_count": null,
   "id": "2c0311a7-a121-4353-8de8-490003e1182d",
   "metadata": {},
   "outputs": [],
   "source": []
  },
  {
   "cell_type": "markdown",
   "id": "0334f29d-b10b-4065-8b76-26bbbf8d2f0e",
   "metadata": {},
   "source": [
    "### AUC and GINI"
   ]
  },
  {
   "cell_type": "code",
   "execution_count": 108,
   "id": "7724b2af-dd09-49e8-b7cc-46d01dc770df",
   "metadata": {},
   "outputs": [],
   "source": [
    "from pyspark.mllib.evaluation import BinaryClassificationMetrics"
   ]
  },
  {
   "cell_type": "code",
   "execution_count": 86,
   "id": "51b49762-9829-4ed9-9e71-c978c09368ca",
   "metadata": {
    "scrolled": true
   },
   "outputs": [],
   "source": [
    "def get_score_labels_RDD(df):\n",
    "    out_score_labels = df.select([\"PROB\", \"LABEL\"]).rdd.map(lambda x: (x[0],x[1]))\n",
    "    return out_score_labels"
   ]
  },
  {
   "cell_type": "code",
   "execution_count": 87,
   "id": "47808785-2b70-4904-9e11-59884035ffed",
   "metadata": {},
   "outputs": [
    {
     "data": {
      "text/plain": [
       "[(0.43655406692733745, 0.0),\n",
       " (0.29083223676639114, 1.0),\n",
       " (0.3108823196506507, 1.0),\n",
       " (0.6748656638696303, 1.0),\n",
       " (0.8552521826576316, 1.0)]"
      ]
     },
     "execution_count": 87,
     "metadata": {},
     "output_type": "execute_result"
    }
   ],
   "source": [
    "train_score_labels = get_score_labels_RDD(train_pyspark)\n",
    "train_score_labels.take(5)"
   ]
  },
  {
   "cell_type": "code",
   "execution_count": 88,
   "id": "941985e2-2152-4f99-84e4-1e6d30fcfc16",
   "metadata": {},
   "outputs": [
    {
     "data": {
      "text/plain": [
       "[(0.6142610586471573, 0.0),\n",
       " (0.6758005764366875, 1.0),\n",
       " (0.8717114002906813, 0.0),\n",
       " (0.9948260188796219, 0.0),\n",
       " (0.8656106744998311, 1.0)]"
      ]
     },
     "execution_count": 88,
     "metadata": {},
     "output_type": "execute_result"
    }
   ],
   "source": [
    "val_score_labels = get_score_labels_RDD(val_pyspark)\n",
    "val_score_labels.take(5)"
   ]
  },
  {
   "cell_type": "code",
   "execution_count": 83,
   "id": "bce51790-41cf-42ca-89fb-f2b44bafd3a1",
   "metadata": {},
   "outputs": [],
   "source": [
    "# type(train_view)"
   ]
  },
  {
   "cell_type": "code",
   "execution_count": 93,
   "id": "ea7cb61a-caca-424e-bced-8402c685a6fc",
   "metadata": {},
   "outputs": [],
   "source": [
    "def get_auc(inp_score_label, round_off=3):\n",
    "    metrics = BinaryClassificationMetrics(inp_score_label)\n",
    "    return round(metrics.areaUnderROC, round_off)"
   ]
  },
  {
   "cell_type": "code",
   "execution_count": null,
   "id": "9b8d7eb1-3fcc-475b-98f0-f23aceeec73b",
   "metadata": {},
   "outputs": [],
   "source": [
    "def get_gini(auc_score, round_off=3):\n",
    "    return round(2*auc_score - 1, round_off)"
   ]
  },
  {
   "cell_type": "code",
   "execution_count": 113,
   "id": "cb5b304d-6cb1-435f-83be-a15a5380cdd0",
   "metadata": {},
   "outputs": [
    {
     "name": "stdout",
     "output_type": "stream",
     "text": [
      "train_auc : 0.499\n",
      "val_auc : 0.498\n"
     ]
    }
   ],
   "source": [
    "train_auc = get_auc(train_score_labels)\n",
    "val_auc = get_auc(val_score_labels)\n",
    "print(f\"train_auc : {train_auc}\\nval_auc : {val_auc}\")"
   ]
  },
  {
   "cell_type": "code",
   "execution_count": 114,
   "id": "9bcbd2b8-a9c3-40ca-9ce0-85900e88f556",
   "metadata": {},
   "outputs": [],
   "source": [
    "train_gini = get_gini(train_auc)\n",
    "val_gini = get_gini(val_auc)"
   ]
  },
  {
   "cell_type": "code",
   "execution_count": 115,
   "id": "13a08cb8-c54f-4582-8872-b3ff64174549",
   "metadata": {},
   "outputs": [
    {
     "name": "stdout",
     "output_type": "stream",
     "text": [
      "train_gini : -0.002\n",
      "val_gini : -0.004\n"
     ]
    }
   ],
   "source": [
    "print(f\"train_gini : {train_gini}\\nval_gini : {val_gini}\")"
   ]
  },
  {
   "cell_type": "code",
   "execution_count": null,
   "id": "b8c403dc-b2a9-4a22-9081-7e5fc2ce61e2",
   "metadata": {},
   "outputs": [],
   "source": []
  },
  {
   "cell_type": "markdown",
   "id": "3961bf43-e024-47bf-9a8a-164a281d9a12",
   "metadata": {},
   "source": [
    "### Decile Creation"
   ]
  },
  {
   "cell_type": "code",
   "execution_count": 117,
   "id": "aec3ff79-ec1c-4dbe-911f-08d38886174e",
   "metadata": {},
   "outputs": [],
   "source": [
    "from pyspark.ml.feature import QuantileDiscretizer"
   ]
  },
  {
   "cell_type": "code",
   "execution_count": 242,
   "id": "4882e51b-d8f4-4cad-b2a6-3a569e494b38",
   "metadata": {},
   "outputs": [],
   "source": [
    "def createBucketizer(input_df, input_col=\"PROB\", output_col=\"BUCKET\", numBuckets=10, relativeError=0.0001, handleInvalid=\"error\"):\n",
    "    qds = QuantileDiscretizer(inputCol=input_col, outputCol=output_col, numBuckets=numBuckets, relativeError=relativeError, handleInvalid=handleInvalid)\n",
    "    bucketizer = qds.fit(input_df)\n",
    "    return bucketizer"
   ]
  },
  {
   "cell_type": "code",
   "execution_count": 243,
   "id": "c3098ee6-dfac-41b1-b121-6ab874d4512c",
   "metadata": {},
   "outputs": [],
   "source": [
    "def get_buckets(bucketizer, inp_df):\n",
    "    res = bucketizer.transform(inp_df)\n",
    "    res = res.withColumn(\"BUCKET\", 10 - res[\"BUCKET\"])\n",
    "    return res"
   ]
  },
  {
   "cell_type": "code",
   "execution_count": 244,
   "id": "2dcd66e9-0627-4249-8e6d-eb596ec9c201",
   "metadata": {},
   "outputs": [
    {
     "data": {
      "text/plain": [
       "[-inf,\n",
       " 0.09860318820772884,\n",
       " 0.19944321897725403,\n",
       " 0.2990615528534277,\n",
       " 0.39873221748411125,\n",
       " 0.4979335591313695,\n",
       " 0.5995457170330696,\n",
       " 0.7013894392499551,\n",
       " 0.8003422961531734,\n",
       " 0.9001488110014753,\n",
       " inf]"
      ]
     },
     "execution_count": 244,
     "metadata": {},
     "output_type": "execute_result"
    }
   ],
   "source": [
    "train_bucketizer = createBucketizer(train_pyspark)\n",
    "train_splits = train_bucketizer.getSplits()\n",
    "train_splits"
   ]
  },
  {
   "cell_type": "code",
   "execution_count": 245,
   "id": "8c57e5f5-6cda-46ca-8574-608a9564e17c",
   "metadata": {},
   "outputs": [],
   "source": [
    "train_bucketed = get_buckets(train_bucketizer, train_pyspark)\n",
    "val_bucketed = get_buckets(train_bucketizer, val_pyspark)"
   ]
  },
  {
   "cell_type": "code",
   "execution_count": 246,
   "id": "658fd289-94c0-4733-9025-01b66594a5f4",
   "metadata": {
    "scrolled": true
   },
   "outputs": [
    {
     "name": "stdout",
     "output_type": "stream",
     "text": [
      "+-----+-----+-------------------+-----+-------+------+\n",
      "|   ID|LABEL|               PROB|SCORE|SEGMENT|BUCKET|\n",
      "+-----+-----+-------------------+-----+-------+------+\n",
      "|77756|  0.0|0.43655406692733745|  542|      2|   6.0|\n",
      "|16806|  1.0|0.29083223676639114|  951|      2|   8.0|\n",
      "|82834|  1.0| 0.3108823196506507|  619|      3|   7.0|\n",
      "|37926|  1.0| 0.6748656638696303|  526|      5|   4.0|\n",
      "| 8119|  1.0| 0.8552521826576316|  382|      2|   2.0|\n",
      "+-----+-----+-------------------+-----+-------+------+\n",
      "only showing top 5 rows\n",
      "\n"
     ]
    }
   ],
   "source": [
    "train_bucketed.show(5)"
   ]
  },
  {
   "cell_type": "code",
   "execution_count": 247,
   "id": "7ffc6598-bbe1-4a54-9cb3-b0a476f49f32",
   "metadata": {},
   "outputs": [
    {
     "name": "stdout",
     "output_type": "stream",
     "text": [
      "+------+-----+\n",
      "|BUCKET|count|\n",
      "+------+-----+\n",
      "|   1.0|10010|\n",
      "|   2.0| 9994|\n",
      "|   3.0|10001|\n",
      "|   4.0| 9994|\n",
      "|   5.0|10002|\n",
      "|   6.0|10003|\n",
      "|   7.0| 9996|\n",
      "|   8.0|10001|\n",
      "|   9.0|10009|\n",
      "|  10.0| 9990|\n",
      "+------+-----+\n",
      "\n"
     ]
    }
   ],
   "source": [
    "train_bucketed.groupBy('BUCKET').count().orderBy('BUCKET').show()"
   ]
  },
  {
   "cell_type": "code",
   "execution_count": 248,
   "id": "3dddd81c-1724-407b-bfcf-bc3d7f5d694d",
   "metadata": {
    "scrolled": true
   },
   "outputs": [
    {
     "name": "stdout",
     "output_type": "stream",
     "text": [
      "+------+-----+------------------+-----+-------+------+\n",
      "|    ID|LABEL|              PROB|SCORE|SEGMENT|BUCKET|\n",
      "+------+-----+------------------+-----+-------+------+\n",
      "|105967|  0.0|0.6142610586471573|  867|      2|   4.0|\n",
      "|116279|  1.0|0.6758005764366875|  641|      4|   4.0|\n",
      "|138185|  0.0|0.8717114002906813|  560|      2|   2.0|\n",
      "|141765|  0.0|0.9948260188796219|  278|      5|   1.0|\n",
      "|133599|  1.0|0.8656106744998311|  367|      2|   2.0|\n",
      "+------+-----+------------------+-----+-------+------+\n",
      "only showing top 5 rows\n",
      "\n"
     ]
    }
   ],
   "source": [
    "val_bucketed.show(5)"
   ]
  },
  {
   "cell_type": "code",
   "execution_count": 249,
   "id": "d1099a4d-f182-4b82-85fb-c727d1033ec0",
   "metadata": {},
   "outputs": [
    {
     "name": "stdout",
     "output_type": "stream",
     "text": [
      "+------+-----+\n",
      "|BUCKET|count|\n",
      "+------+-----+\n",
      "|   1.0| 4916|\n",
      "|   2.0| 5140|\n",
      "|   3.0| 4783|\n",
      "|   4.0| 5126|\n",
      "|   5.0| 5160|\n",
      "|   6.0| 5118|\n",
      "|   7.0| 4901|\n",
      "|   8.0| 4950|\n",
      "|   9.0| 5021|\n",
      "|  10.0| 4885|\n",
      "+------+-----+\n",
      "\n"
     ]
    }
   ],
   "source": [
    "val_bucketed.groupBy('BUCKET').count().orderBy('BUCKET').show()"
   ]
  },
  {
   "cell_type": "markdown",
   "id": "1f76c872-da2c-4251-81d3-37806cdcc9c5",
   "metadata": {},
   "source": [
    "### BAD Capture Rate"
   ]
  },
  {
   "cell_type": "code",
   "execution_count": 284,
   "id": "baec33c3-30ff-4821-9701-6358e9c34a5c",
   "metadata": {},
   "outputs": [
    {
     "name": "stdout",
     "output_type": "stream",
     "text": [
      "+------+----------+-------------------+\n",
      "|BUCKET|COUNT_BADS|BAD_CAPTURE_RATE(%)|\n",
      "+------+----------+-------------------+\n",
      "|   1.0|    4953.0|               9.91|\n",
      "|   2.0|    5044.0|              10.09|\n",
      "|   3.0|    4919.0|               9.84|\n",
      "|   4.0|    5026.0|              10.05|\n",
      "|   5.0|    5030.0|              10.06|\n",
      "|   6.0|    5034.0|              10.07|\n",
      "|   7.0|    5039.0|              10.08|\n",
      "|   8.0|    4988.0|               9.98|\n",
      "|   9.0|    4999.0|               10.0|\n",
      "|  10.0|    4968.0|               9.94|\n",
      "+------+----------+-------------------+\n",
      "\n"
     ]
    }
   ],
   "source": [
    "from pyspark.sql.functions import sum, avg, max, min, round, count\n",
    "train_bads = train_bucketed.groupBy('BUCKET') \\\n",
    "    .agg(sum(\"LABEL\").alias(\"COUNT_BADS\"), \\\n",
    "    round((sum(\"LABEL\")/train_bucketed.agg({'LABEL': 'sum'}).collect()[0][0])*100, 2).alias(\"BAD_CAPTURE_RATE(%)\"), \\\n",
    "    # round(avg(\"LABEL\")*100, 2).alias(\"ACTUAL_BAD_RATE(%)\")\n",
    "    ).orderBy('BUCKET')\n",
    "train_bads.show()"
   ]
  },
  {
   "cell_type": "code",
   "execution_count": 239,
   "id": "6eecde7e-23dc-4841-b60e-16033f0bd817",
   "metadata": {},
   "outputs": [
    {
     "data": {
      "text/plain": [
       "50000.0"
      ]
     },
     "execution_count": 239,
     "metadata": {},
     "output_type": "execute_result"
    }
   ],
   "source": [
    "train_bucketed.agg({'LABEL': 'sum'}).collect()[0][0]"
   ]
  },
  {
   "cell_type": "markdown",
   "id": "2bbcf486-3295-48db-b1cd-efca2e681892",
   "metadata": {},
   "source": [
    "### PSI"
   ]
  },
  {
   "cell_type": "code",
   "execution_count": 260,
   "id": "18da4f34-0509-4e87-b293-e6e74ca9004a",
   "metadata": {},
   "outputs": [],
   "source": [
    "from pyspark.sql.functions import log\n",
    "def get_PSI(ref_df, score_df, numBuckets=10):\n",
    "    ref_grp = ref_df.groupby('BUCKET') \\\n",
    "    .agg(((count(\"ID\")/ref_df.agg({'ID': 'count'}).collect()[0][0])*100).alias(\"TRAIN_BUCKET_POP(%)\")).orderBy('BUCKET')\n",
    "\n",
    "    score_grp = score_df.groupby('BUCKET') \\\n",
    "    .agg(((count(\"ID\")/score_df.agg({'ID': 'count'}).collect()[0][0])*100).alias(\"SCORE_BUCKET_POP(%)\")).orderBy('BUCKET')\n",
    "\n",
    "    final_grp = train_grp.join(score_grp, on='BUCKET', how='left').orderBy('BUCKET')\n",
    "    final_grp = final_grp.withColumn(\"A-B\", final_grp[\"SCORE_BUCKET_POP(%)\"]-final_grp[\"TRAIN_BUCKET_POP(%)\"])\n",
    "    final_grp = final_grp.withColumn(\"ln(A/B)\", log(final_grp[\"SCORE_BUCKET_POP(%)\"]/final_grp[\"TRAIN_BUCKET_POP(%)\"]))\n",
    "    final_grp = final_grp.withColumn(\"PSI\", final_grp[\"A-B\"] * final_grp[\"ln(A/B)\"])\n",
    "    PSI = final_grp.agg({\"PSI\":'sum'}).collect()[0][0]\n",
    "    return PSI"
   ]
  },
  {
   "cell_type": "code",
   "execution_count": 261,
   "id": "b875d424-30f6-4b7f-9d54-d6580dd98d5a",
   "metadata": {},
   "outputs": [
    {
     "name": "stdout",
     "output_type": "stream",
     "text": [
      "PSI : 0.06233653331089773\n"
     ]
    }
   ],
   "source": [
    "PSI = get_PSI(train_bucketed, val_bucketed)\n",
    "print(f\"PSI : {PSI}\")"
   ]
  },
  {
   "cell_type": "code",
   "execution_count": null,
   "id": "5669f3bc-af4d-4e10-a8c6-9c1d7d5e9c82",
   "metadata": {},
   "outputs": [],
   "source": []
  },
  {
   "cell_type": "code",
   "execution_count": null,
   "id": "00397463-998d-4fc1-8b3b-fbf2c2890002",
   "metadata": {},
   "outputs": [],
   "source": []
  },
  {
   "cell_type": "code",
   "execution_count": 252,
   "id": "262bf9e9-3577-441d-ad36-5d8b05043db1",
   "metadata": {},
   "outputs": [
    {
     "name": "stdout",
     "output_type": "stream",
     "text": [
      "+------+-------------------+\n",
      "|BUCKET|TRAIN_BUCKET_POP(%)|\n",
      "+------+-------------------+\n",
      "|   1.0|              10.01|\n",
      "|   2.0|              9.994|\n",
      "|   3.0|             10.001|\n",
      "|   4.0|              9.994|\n",
      "|   5.0| 10.001999999999999|\n",
      "|   6.0|             10.003|\n",
      "|   7.0|  9.995999999999999|\n",
      "|   8.0|             10.001|\n",
      "|   9.0|             10.009|\n",
      "|  10.0|               9.99|\n",
      "+------+-------------------+\n",
      "\n"
     ]
    }
   ],
   "source": [
    "train_grp = train_bucketed.groupby('BUCKET') \\\n",
    "    .agg(((count(\"ID\")/train_bucketed.agg({'ID': 'count'}).collect()[0][0])*100).alias(\"TRAIN_BUCKET_POP(%)\") \\\n",
    "    ).orderBy('BUCKET')\n",
    "train_grp.show()"
   ]
  },
  {
   "cell_type": "code",
   "execution_count": 253,
   "id": "146bf9ad-c6d7-4545-b907-9ee7124ae68c",
   "metadata": {},
   "outputs": [
    {
     "name": "stdout",
     "output_type": "stream",
     "text": [
      "+------+------------------+\n",
      "|BUCKET| VAL_BUCKET_POP(%)|\n",
      "+------+------------------+\n",
      "|   1.0|             9.832|\n",
      "|   2.0|10.280000000000001|\n",
      "|   3.0| 9.565999999999999|\n",
      "|   4.0|            10.252|\n",
      "|   5.0|             10.32|\n",
      "|   6.0|            10.236|\n",
      "|   7.0|             9.802|\n",
      "|   8.0|               9.9|\n",
      "|   9.0|            10.042|\n",
      "|  10.0|              9.77|\n",
      "+------+------------------+\n",
      "\n"
     ]
    }
   ],
   "source": [
    "val_grp = val_bucketed.groupby('BUCKET') \\\n",
    "    .agg(((count(\"ID\")/val_bucketed.agg({'ID': 'count'}).collect()[0][0])*100).alias(\"VAL_BUCKET_POP(%)\") \\\n",
    "    ).orderBy('BUCKET')\n",
    "val_grp.show()"
   ]
  },
  {
   "cell_type": "code",
   "execution_count": 254,
   "id": "8f14af12-edba-4782-8232-4284164111b5",
   "metadata": {},
   "outputs": [],
   "source": [
    "# temp1 = train_grp.withColumn(\"BUCKET_POP(%)\") - val_grp.withColumn(\"BUCKET_POP(%)\")\n",
    "# temp"
   ]
  },
  {
   "cell_type": "code",
   "execution_count": 257,
   "id": "a56fb51c-8059-4847-9c1e-27a80b0c05a0",
   "metadata": {
    "scrolled": true
   },
   "outputs": [
    {
     "name": "stdout",
     "output_type": "stream",
     "text": [
      "+------+-------------------+------------------+\n",
      "|BUCKET|TRAIN_BUCKET_POP(%)| VAL_BUCKET_POP(%)|\n",
      "+------+-------------------+------------------+\n",
      "|   1.0|              10.01|             9.832|\n",
      "|   2.0|              9.994|10.280000000000001|\n",
      "|   3.0|             10.001| 9.565999999999999|\n",
      "|   4.0|              9.994|            10.252|\n",
      "|   5.0| 10.001999999999999|             10.32|\n",
      "|   6.0|             10.003|            10.236|\n",
      "|   7.0|  9.995999999999999|             9.802|\n",
      "|   8.0|             10.001|               9.9|\n",
      "|   9.0|             10.009|            10.042|\n",
      "|  10.0|               9.99|              9.77|\n",
      "+------+-------------------+------------------+\n",
      "\n"
     ]
    }
   ],
   "source": [
    "temp = train_grp.join(val_grp, on='BUCKET', how='left').orderBy('BUCKET')\n",
    "temp.show()"
   ]
  },
  {
   "cell_type": "code",
   "execution_count": 258,
   "id": "5aa6a899-2e5a-40e1-9788-05bcbbbe0b84",
   "metadata": {
    "scrolled": true
   },
   "outputs": [
    {
     "name": "stdout",
     "output_type": "stream",
     "text": [
      "+------+-------------------+------------------+--------------------+--------------------+--------------------+\n",
      "|BUCKET|TRAIN_BUCKET_POP(%)| VAL_BUCKET_POP(%)|                 A-B|             ln(A/B)|                 PSI|\n",
      "+------+-------------------+------------------+--------------------+--------------------+--------------------+\n",
      "|   1.0|              10.01|             9.832|-0.17799999999999905|-0.01794222106339...|0.003193715349284365|\n",
      "|   2.0|              9.994|10.280000000000001| 0.28600000000000136|0.028215347105005832|0.008069589272031706|\n",
      "|   3.0|             10.001| 9.565999999999999| -0.4350000000000005|-0.04446994273627385|0.019344425090279147|\n",
      "|   4.0|              9.994|            10.252|  0.2580000000000009|0.025487895579811504|0.006575877059591391|\n",
      "|   5.0| 10.001999999999999|             10.32|  0.3180000000000014| 0.03129868705670495|0.009952982484032218|\n",
      "|   6.0|             10.003|            10.236| 0.23300000000000054| 0.02302587029449887|0.005365027778618249|\n",
      "|   7.0|  9.995999999999999|             9.802|-0.19399999999999906|-0.01959856648535...|0.003802121898157...|\n",
      "|   8.0|             10.001|               9.9|-0.10099999999999909|-0.01015033085383465|0.001025183416237...|\n",
      "|   9.0|             10.009|            10.042|0.032999999999999474|0.003291609375631849|1.086231093958492...|\n",
      "|  10.0|               9.99|              9.77|-0.22000000000000064|-0.02226812660577084|0.004898987853269599|\n",
      "+------+-------------------+------------------+--------------------+--------------------+--------------------+\n",
      "\n"
     ]
    }
   ],
   "source": [
    "from pyspark.sql.functions import log\n",
    "temp = temp.withColumn(\"A-B\", temp[\"VAL_BUCKET_POP(%)\"]-temp[\"TRAIN_BUCKET_POP(%)\"])\n",
    "temp = temp.withColumn(\"ln(A/B)\", log(temp[\"VAL_BUCKET_POP(%)\"]/temp[\"TRAIN_BUCKET_POP(%)\"]))\n",
    "temp = temp.withColumn(\"PSI\", temp[\"A-B\"] * temp[\"ln(A/B)\"])\n",
    "temp.show()"
   ]
  },
  {
   "cell_type": "code",
   "execution_count": 259,
   "id": "f17cdc73-18cb-4ff0-a852-ea66753aa8b6",
   "metadata": {},
   "outputs": [
    {
     "data": {
      "text/plain": [
       "0.06233653331089773"
      ]
     },
     "execution_count": 259,
     "metadata": {},
     "output_type": "execute_result"
    }
   ],
   "source": [
    "PSI = temp.agg({\"PSI\":'sum'}).collect()[0][0]\n",
    "PSI"
   ]
  },
  {
   "cell_type": "markdown",
   "id": "41a9b2af-cfa0-438a-bf39-2a0795c95add",
   "metadata": {},
   "source": [
    "### KS"
   ]
  },
  {
   "cell_type": "code",
   "execution_count": 344,
   "id": "441d0d60-4be4-436a-8828-a59624db409b",
   "metadata": {},
   "outputs": [],
   "source": [
    "from pyspark.sql import Window\n",
    "from pyspark.sql import functions as F\n",
    "\n",
    "def get_ks(data=None, target=\"LABEL\", prob=\"PROB\"):\n",
    "    data = data.withColumn(\"LABEL0\", 1-data[\"LABEL\"])\n",
    "    kstable = data.groupby('BUCKET') \\\n",
    "    .agg(min(\"PROB\").alias(\"min_prob\"), \\\n",
    "         max(\"PROB\").alias(\"max_prob\"), \\\n",
    "         sum(\"LABEL\").alias(\"events\"), \\\n",
    "         sum(\"LABEL0\").alias(\"nonevents\"))\n",
    "\n",
    "    kstable = kstable.orderBy('min_prob', ascending=False)\n",
    "    kstable = kstable.withColumn(\"event_rate\", kstable[\"events\"]/data.agg({\"LABEL\" : \"sum\"}).collect()[0][0])\n",
    "    kstable = kstable.withColumn(\"nonevent_rate\", kstable[\"nonevents\"]/data.agg({\"LABEL0\" : \"sum\"}).collect()[0][0])\n",
    "    my_window = (Window.orderBy('min_prob').rowsBetween(Window.unboundedPreceding, 0))\n",
    "    kstable = kstable.withColumn(\"cum_eventrate\", F.sum(\"event_rate\").over(my_window))\n",
    "    kstable = kstable.withColumn(\"cum_noneventrate\", F.sum(\"nonevent_rate\").over(my_window))\n",
    "    kstable = kstable.withColumn(\"KS\", round(kstable[\"cum_eventrate\"]-kstable[\"cum_noneventrate\"], 3)*100)\n",
    "\n",
    "    #Formating\n",
    "    kstable = kstable.withColumn(\"cum_eventrate\", round(kstable[\"cum_eventrate\"], 3))\n",
    "    kstable = kstable.withColumn(\"cum_noneventrate\", round(kstable[\"cum_noneventrate\"], 3))\n",
    "    \n",
    "    #Display KS\n",
    "    kstable = kstable.orderBy('BUCKET', ascending=True)\n",
    "    # print(Fore.RED + \"KS is \" + str(max(kstable['KS']))+\"%\"+ \" at decile \" + str((kstable.index[kstable['KS']==max(kstable['KS'])][0])))\n",
    "    print(\"KS is \" + str(kstable.agg({'KS':'max'}).collect()[0][0])+\"%\"+ \" at decile \" + str(kstable.select(\"BUCKET\").where(kstable['KS']==kstable.agg({'KS':'max'}).collect()[0][0]).collect()[0][0]))\n",
    "    return(kstable)"
   ]
  },
  {
   "cell_type": "code",
   "execution_count": 345,
   "id": "303e3bc7-4d22-49b8-8454-318eef288dda",
   "metadata": {
    "scrolled": true
   },
   "outputs": [
    {
     "name": "stdout",
     "output_type": "stream",
     "text": [
      "KS is 0.3% at decile 4.0\n",
      "+------+--------------------+-------------------+------+---------+----------+-------------+-------------+----------------+----+\n",
      "|BUCKET|            min_prob|           max_prob|events|nonevents|event_rate|nonevent_rate|cum_eventrate|cum_noneventrate|  KS|\n",
      "+------+--------------------+-------------------+------+---------+----------+-------------+-------------+----------------+----+\n",
      "|   1.0|  0.9001488110014753|  0.999979839176757|4953.0|   5057.0|   0.09906|      0.10114|          1.0|             1.0| 0.0|\n",
      "|   2.0|  0.8003422961531734| 0.9001473080139691|5044.0|   4950.0|   0.10088|        0.099|        0.901|           0.899| 0.2|\n",
      "|   3.0|  0.7013894392499551| 0.8003368942123185|4919.0|   5082.0|   0.09838|      0.10164|          0.8|             0.8| 0.0|\n",
      "|   4.0|  0.5995457170330696|  0.701386326802304|5026.0|   4968.0|   0.10052|      0.09936|        0.702|           0.698| 0.3|\n",
      "|   5.0|  0.4979335591313695| 0.5995409069864155|5030.0|   4972.0|    0.1006|      0.09944|        0.601|           0.599| 0.2|\n",
      "|   6.0| 0.39873221748411125| 0.4979326968750917|5034.0|   4969.0|   0.10068|      0.09938|        0.501|           0.499| 0.1|\n",
      "|   7.0|  0.2990615528534277|0.39871470715065194|5039.0|   4957.0|   0.10078|      0.09914|          0.4|             0.4| 0.0|\n",
      "|   8.0| 0.19944321897725403|0.29905482807773964|4988.0|   5013.0|   0.09976|      0.10026|        0.299|           0.301|-0.2|\n",
      "|   9.0| 0.09860318820772884| 0.1994385070993242|4999.0|   5010.0|   0.09998|       0.1002|        0.199|           0.201|-0.1|\n",
      "|  10.0|5.449931386625195E-6|0.09859413658025029|4968.0|   5022.0|   0.09936|      0.10044|        0.099|             0.1|-0.1|\n",
      "+------+--------------------+-------------------+------+---------+----------+-------------+-------------+----------------+----+\n",
      "\n"
     ]
    }
   ],
   "source": [
    "train_ks = get_ks(train_bucketed)\n",
    "train_ks.show()"
   ]
  },
  {
   "cell_type": "code",
   "execution_count": 346,
   "id": "e590d1b7-1202-4830-ba72-ce34e6de643b",
   "metadata": {},
   "outputs": [
    {
     "name": "stdout",
     "output_type": "stream",
     "text": [
      "KS is 0.4% at decile 4.0\n",
      "+------+--------------------+-------------------+------+---------+-------------------+-------------------+-------------+----------------+----+\n",
      "|BUCKET|            min_prob|           max_prob|events|nonevents|         event_rate|      nonevent_rate|cum_eventrate|cum_noneventrate|  KS|\n",
      "+------+--------------------+-------------------+------+---------+-------------------+-------------------+-------------+----------------+----+\n",
      "|   1.0|  0.9001775261767412| 0.9999978105929195|2460.0|   2456.0|0.09794943260999403|0.09869399236487844|          1.0|             1.0| 0.0|\n",
      "|   2.0|  0.8003509759230957| 0.9001475274125148|2579.0|   2561.0|0.10268763687039618|0.10291340164757887|        0.902|           0.901| 0.1|\n",
      "|   3.0|   0.701395174286093| 0.8003221477827438|2361.0|   2422.0|0.09400756520007963|0.09732770745428973|        0.799|           0.798| 0.1|\n",
      "|   4.0|  0.5995527103214316| 0.7013052080974834|2589.0|   2537.0|0.10308580529564006|0.10194896524010448|        0.705|           0.701| 0.4|\n",
      "|   5.0| 0.49793866606408166|  0.599537525090808|2603.0|   2557.0|0.10364324109098148|0.10275266224633313|        0.602|           0.599| 0.3|\n",
      "|   6.0|  0.3987453586140445| 0.4979056028548835|2623.0|   2495.0|0.10443957794146924|0.10026120152702431|        0.499|           0.496| 0.2|\n",
      "|   7.0| 0.29908014521012516| 0.3987154781953697|2389.0|   2512.0|0.09512243679076249|0.10094434398231866|        0.394|           0.396|-0.2|\n",
      "|   8.0| 0.19944369719641597|0.29903011622927556|2486.0|   2464.0| 0.0989846705156281| 0.0990154711673699|        0.299|           0.295| 0.4|\n",
      "|   9.0| 0.09860772176773602|0.19939850651143376|2575.0|   2446.0|0.10252836950029863|0.09829214386176412|          0.2|           0.196| 0.4|\n",
      "|  10.0|6.601978251086216E-6|0.09852677827413536|2450.0|   2435.0|0.09755126418475014|0.09785011050833836|        0.098|           0.098| 0.0|\n",
      "+------+--------------------+-------------------+------+---------+-------------------+-------------------+-------------+----------------+----+\n",
      "\n"
     ]
    }
   ],
   "source": [
    "val_ks = get_ks(val_bucketed)\n",
    "val_ks.show()"
   ]
  }
 ],
 "metadata": {
  "kernelspec": {
   "display_name": "Python 3 (ipykernel)",
   "language": "python",
   "name": "python3"
  },
  "language_info": {
   "codemirror_mode": {
    "name": "ipython",
    "version": 3
   },
   "file_extension": ".py",
   "mimetype": "text/x-python",
   "name": "python",
   "nbconvert_exporter": "python",
   "pygments_lexer": "ipython3",
   "version": "3.11.5"
  }
 },
 "nbformat": 4,
 "nbformat_minor": 5
}
